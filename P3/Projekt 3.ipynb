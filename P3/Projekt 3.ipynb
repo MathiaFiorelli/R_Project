{
 "cells": [
  {
   "cell_type": "markdown",
   "id": "4c242a7d-9117-4bf0-b9cf-1e7b641d1bf9",
   "metadata": {},
   "source": [
    "# Python code"
   ]
  },
  {
   "cell_type": "markdown",
   "id": "9667ab59-108f-42c4-8c69-c612e47c1ae3",
   "metadata": {
    "tags": []
   },
   "source": [
    "``` python\n",
    "from scipy.integrate import nquad\n",
    "import pandas as pd\n",
    "import numpy as np\n",
    "\n",
    "\n",
    "def integrate3d(function, xlim, ylim, n):\n",
    "    x_range = np.linspace(start=min(xlim), stop=max(xlim), num=n)\n",
    "    y_range = np.linspace(start=min(ylim), stop=max(ylim), num=n)\n",
    "    df = pd.DataFrame(columns=x_range)\n",
    "    df['y'] = y_range\n",
    "    df.set_index('y')\n",
    "    area = (max(xlim)-min(xlim))*(max(ylim)-min(ylim))\n",
    "    fsum = 0\n",
    "    for x in x_range:\n",
    "        for y in y_range:\n",
    "            fsum += function(x, y)\n",
    "\n",
    "    return area*fsum\n",
    "\n",
    "\n",
    "def integrate3d2(function, xlim, ylim, n):\n",
    "    x_range = np.linspace(start=min(xlim), stop=max(xlim), num=n)\n",
    "    y_range = np.linspace(start=min(ylim), stop=max(ylim), num=n)\n",
    "    df = pd.DataFrame(columns=x_range)\n",
    "    df['y'] = y_range\n",
    "    df.set_index('y')\n",
    "    area = (max(xlim)-min(xlim))*(max(ylim)-min(ylim))/n**2\n",
    "    for x in x_range:\n",
    "        df[x] = pd.Series(y_range).apply(lambda row: function(x, row))\n",
    "\n",
    "    return area*df.sum().sum()\n",
    "\n",
    "\n",
    "def function(x, y):\n",
    "    return np.cos(x*y)\n",
    "\n",
    "\n",
    "xlim = [0, 1]\n",
    "ylim = [0, 1]\n",
    "n = 10000\n",
    "integral = integrate3d2(function, xlim, ylim, n)\n",
    "print('calculated=', integral)\n",
    "\n",
    "check = nquad(function, [xlim, ylim])\n",
    "print('real=', check[0])\n",
    "\n",
    "```"
   ]
  },
  {
   "cell_type": "markdown",
   "id": "749ae89b-6fe7-44a6-8b56-7b4cd4e593e8",
   "metadata": {},
   "source": [
    "# R code"
   ]
  },
  {
   "cell_type": "code",
   "execution_count": 19,
   "id": "d78b3217-9217-412e-b995-12df2c291911",
   "metadata": {
    "tags": []
   },
   "outputs": [
    {
     "data": {
      "text/html": [
       "0.946078000246449"
      ],
      "text/latex": [
       "0.946078000246449"
      ],
      "text/markdown": [
       "0.946078000246449"
      ],
      "text/plain": [
       "[1] 0.946078"
      ]
     },
     "metadata": {},
     "output_type": "display_data"
    }
   ],
   "source": [
    "integrate3d2 = function(fun, xlim, ylim, n)\n",
    "{\n",
    "x_range = seq(min(xlim),max(xlim),length.out=n)\n",
    "y_range = seq(min(ylim),max(ylim),length.out=n)\n",
    "area = (max(xlim)-min(xlim))*(max(ylim)-min(ylim))\n",
    "cos_matrix <- outer(y_range, x_range, FUN = funkcja)\n",
    "volume = area*sum(cos_matrix)/n^2\n",
    "return (volume)\n",
    "}\n",
    "                             \n",
    "funkcja= function(x, y){cos(x*y)}\n",
    "xlim = c(0, 1)\n",
    "ylim = c(0, 1)\n",
    "n = 10000\n",
    "integral = integrate3d2(funkcja, xlim, ylim, n)\n",
    "integral"
   ]
  }
 ],
 "metadata": {
  "kernelspec": {
   "display_name": "R",
   "language": "R",
   "name": "ir"
  },
  "language_info": {
   "codemirror_mode": "r",
   "file_extension": ".r",
   "mimetype": "text/x-r-source",
   "name": "R",
   "pygments_lexer": "r",
   "version": "4.3.1"
  }
 },
 "nbformat": 4,
 "nbformat_minor": 5
}
