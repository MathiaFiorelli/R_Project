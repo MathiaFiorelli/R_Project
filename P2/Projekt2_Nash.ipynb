{
 "cells": [
  {
   "cell_type": "code",
   "execution_count": 130,
   "id": "19220019-6ef3-4401-bd57-2f0e4a7c2e51",
   "metadata": {},
   "outputs": [
    {
     "data": {
      "text/html": [
       "<dl>\n",
       "\t<dt>$player1</dt>\n",
       "\t\t<dd><style>\n",
       ".list-inline {list-style: none; margin:0; padding: 0}\n",
       ".list-inline>li {display: inline-block}\n",
       ".list-inline>li:not(:last-child)::after {content: \"\\00b7\"; padding: 0 .5ex}\n",
       "</style>\n",
       "<ol class=list-inline><li>1</li><li>2</li></ol>\n",
       "</dd>\n",
       "\t<dt>$player2</dt>\n",
       "\t\t<dd><style>\n",
       ".list-inline {list-style: none; margin:0; padding: 0}\n",
       ".list-inline>li {display: inline-block}\n",
       ".list-inline>li:not(:last-child)::after {content: \"\\00b7\"; padding: 0 .5ex}\n",
       "</style>\n",
       "<ol class=list-inline><li>1</li><li>2</li></ol>\n",
       "</dd>\n",
       "</dl>\n"
      ],
      "text/latex": [
       "\\begin{description}\n",
       "\\item[\\$player1] \\begin{enumerate*}\n",
       "\\item 1\n",
       "\\item 2\n",
       "\\end{enumerate*}\n",
       "\n",
       "\\item[\\$player2] \\begin{enumerate*}\n",
       "\\item 1\n",
       "\\item 2\n",
       "\\end{enumerate*}\n",
       "\n",
       "\\end{description}\n"
      ],
      "text/markdown": [
       "$player1\n",
       ":   1. 1\n",
       "2. 2\n",
       "\n",
       "\n",
       "\n",
       "$player2\n",
       ":   1. 1\n",
       "2. 2\n",
       "\n",
       "\n",
       "\n",
       "\n",
       "\n"
      ],
      "text/plain": [
       "$player1\n",
       "[1] 1 2\n",
       "\n",
       "$player2\n",
       "[1] 1 2\n"
      ]
     },
     "metadata": {},
     "output_type": "display_data"
    }
   ],
   "source": [
    "game <- list(\n",
    "  \"player1\" = array(c(5, 10, 1, 2), dim = c(2, 2)),\n",
    "  \"player2\" = array(c(5, 1, 10, 2), dim = c(2, 2))\n",
    ")\n",
    "\n",
    "game <- list(\n",
    "  \"player1\" = array(c(3, 2, 0, 2), dim = c(2, 2)),\n",
    "  \"player2\" = array(c(3, 0, 2, 2), dim = c(2, 2))\n",
    ")\n",
    "\n",
    "dimensions_list <- list()\n",
    "for (i in seq_along(names(game))){\n",
    "    dimension=dim(game[[i]])[i]\n",
    "    name=names(game)[i]\n",
    "    dimensions_list[[name]]=1:dimension\n",
    "}\n",
    "dimensions_list"
   ]
  },
  {
   "cell_type": "code",
   "execution_count": 131,
   "id": "7a38be01-a2db-43d2-ae4c-02d8b57b50e4",
   "metadata": {
    "tags": []
   },
   "outputs": [
    {
     "data": {
      "text/html": [
       "<table class=\"dataframe\">\n",
       "<caption>A data.frame: 4 × 4</caption>\n",
       "<thead>\n",
       "\t<tr><th scope=col>player1</th><th scope=col>player2</th><th scope=col>value1</th><th scope=col>value2</th></tr>\n",
       "\t<tr><th scope=col>&lt;int&gt;</th><th scope=col>&lt;int&gt;</th><th scope=col>&lt;dbl&gt;</th><th scope=col>&lt;dbl&gt;</th></tr>\n",
       "</thead>\n",
       "<tbody>\n",
       "\t<tr><td>1</td><td>1</td><td>3</td><td>3</td></tr>\n",
       "\t<tr><td>2</td><td>1</td><td>2</td><td>0</td></tr>\n",
       "\t<tr><td>1</td><td>2</td><td>0</td><td>2</td></tr>\n",
       "\t<tr><td>2</td><td>2</td><td>2</td><td>2</td></tr>\n",
       "</tbody>\n",
       "</table>\n"
      ],
      "text/latex": [
       "A data.frame: 4 × 4\n",
       "\\begin{tabular}{llll}\n",
       " player1 & player2 & value1 & value2\\\\\n",
       " <int> & <int> & <dbl> & <dbl>\\\\\n",
       "\\hline\n",
       "\t 1 & 1 & 3 & 3\\\\\n",
       "\t 2 & 1 & 2 & 0\\\\\n",
       "\t 1 & 2 & 0 & 2\\\\\n",
       "\t 2 & 2 & 2 & 2\\\\\n",
       "\\end{tabular}\n"
      ],
      "text/markdown": [
       "\n",
       "A data.frame: 4 × 4\n",
       "\n",
       "| player1 &lt;int&gt; | player2 &lt;int&gt; | value1 &lt;dbl&gt; | value2 &lt;dbl&gt; |\n",
       "|---|---|---|---|\n",
       "| 1 | 1 | 3 | 3 |\n",
       "| 2 | 1 | 2 | 0 |\n",
       "| 1 | 2 | 0 | 2 |\n",
       "| 2 | 2 | 2 | 2 |\n",
       "\n"
      ],
      "text/plain": [
       "  player1 player2 value1 value2\n",
       "1 1       1       3      3     \n",
       "2 2       1       2      0     \n",
       "3 1       2       0      2     \n",
       "4 2       2       2      2     "
      ]
     },
     "metadata": {},
     "output_type": "display_data"
    }
   ],
   "source": [
    "str=expand.grid(dimensions_list)\n",
    "values=c()\n",
    "vnames=c()\n",
    "cnames=c()\n",
    "for (i in seq_along(names(game))){\n",
    "    value=game[[i]][as.matrix(str)]\n",
    "    values=cbind(values,value)\n",
    "    vnames=c(vnames,paste('value',i,sep=''))\n",
    "    cnames=c(cnames,paste('change',i,sep=''))\n",
    "    \n",
    "}\n",
    "str=cbind(str,values)\n",
    "colnames(str)[(ncol(str) - length(vnames) + 1):ncol(str)] <- vnames\n",
    "str"
   ]
  },
  {
   "cell_type": "code",
   "execution_count": 165,
   "id": "fa8127c6-517f-4b2b-8092-27bde1eef6a6",
   "metadata": {
    "tags": []
   },
   "outputs": [
    {
     "name": "stdout",
     "output_type": "stream",
     "text": [
      "[1] \"############\"\n",
      "[1] \"Row: 1\"\n",
      "[1] \"Current Player: player1 Current strategy: 1 Current value: 1\"\n",
      "[1] \"Other Players: player2\"\n",
      "[1] \"Other Players Strategies: 1\"\n",
      "[1] \"Current Player other values: 2\"\n",
      "Bool list: TRUE \n",
      "[1] \"*********\"\n",
      "[1] \"Current Player: player2 Current strategy: 1 Current value: 1\"\n",
      "[1] \"Other Players: player1\"\n",
      "[1] \"Other Players Strategies: 1\"\n",
      "[1] \"Current Player other values: 2\"\n",
      "Bool list: TRUE \n",
      "[1] \"*********\"\n",
      "[1] \"Change: TRUE\" \"Change: TRUE\"\n",
      "[1] \"OR Change: TRUE\"\n",
      "[1] \"NOR Change: FALSE\"\n",
      "[1] \"############\"\n",
      "[1] \"Row: 2\"\n",
      "[1] \"Current Player: player1 Current strategy: 2 Current value: 2\"\n",
      "[1] \"Other Players: player2\"\n",
      "[1] \"Other Players Strategies: 1\"\n",
      "[1] \"Current Player other values: 3\"\n",
      "Bool list: TRUE \n",
      "[1] \"*********\"\n",
      "[1] \"Current Player: player2 Current strategy: 1 Current value: 1\"\n",
      "[1] \"Other Players: player1\"\n",
      "[1] \"Other Players Strategies: 2\"\n",
      "[1] \"Current Player other values: 2\"\n",
      "Bool list: TRUE \n",
      "[1] \"*********\"\n",
      "[1] \"Change: TRUE\" \"Change: TRUE\"\n",
      "[1] \"OR Change: TRUE\"\n",
      "[1] \"NOR Change: FALSE\"\n",
      "[1] \"############\"\n",
      "[1] \"Row: 3\"\n",
      "[1] \"Current Player: player1 Current strategy: 1 Current value: 1\"\n",
      "[1] \"Other Players: player2\"\n",
      "[1] \"Other Players Strategies: 2\"\n",
      "[1] \"Current Player other values: 2\"\n",
      "Bool list: TRUE \n",
      "[1] \"*********\"\n",
      "[1] \"Current Player: player2 Current strategy: 2 Current value: 2\"\n",
      "[1] \"Other Players: player1\"\n",
      "[1] \"Other Players Strategies: 1\"\n",
      "[1] \"Current Player other values: 3\"\n",
      "Bool list: TRUE \n",
      "[1] \"*********\"\n",
      "[1] \"Change: TRUE\" \"Change: TRUE\"\n",
      "[1] \"OR Change: TRUE\"\n",
      "[1] \"NOR Change: FALSE\"\n",
      "[1] \"############\"\n",
      "[1] \"Row: 4\"\n",
      "[1] \"Current Player: player1 Current strategy: 2 Current value: 2\"\n",
      "[1] \"Other Players: player2\"\n",
      "[1] \"Other Players Strategies: 2\"\n",
      "[1] \"Current Player other values: 0\"\n",
      "Bool list: FALSE \n",
      "[1] \"*********\"\n",
      "[1] \"Current Player: player2 Current strategy: 2 Current value: 2\"\n",
      "[1] \"Other Players: player1\"\n",
      "[1] \"Other Players Strategies: 2\"\n",
      "[1] \"Current Player other values: 0\"\n",
      "Bool list: FALSE \n",
      "[1] \"*********\"\n",
      "[1] \"Change: FALSE\" \"Change: FALSE\"\n",
      "[1] \"OR Change: FALSE\"\n",
      "[1] \"NOR Change: TRUE\"\n"
     ]
    },
    {
     "data": {
      "text/html": [
       "<table class=\"dataframe\">\n",
       "<caption>A data.frame: 4 × 7</caption>\n",
       "<thead>\n",
       "\t<tr><th scope=col>player1</th><th scope=col>player2</th><th scope=col>value1</th><th scope=col>value2</th><th scope=col>change1</th><th scope=col>change2</th><th scope=col>Nash</th></tr>\n",
       "\t<tr><th scope=col>&lt;int&gt;</th><th scope=col>&lt;int&gt;</th><th scope=col>&lt;dbl&gt;</th><th scope=col>&lt;dbl&gt;</th><th scope=col>&lt;lgl&gt;</th><th scope=col>&lt;lgl&gt;</th><th scope=col>&lt;lgl&gt;</th></tr>\n",
       "</thead>\n",
       "<tbody>\n",
       "\t<tr><td>1</td><td>1</td><td>3</td><td>3</td><td> TRUE</td><td> TRUE</td><td>FALSE</td></tr>\n",
       "\t<tr><td>2</td><td>1</td><td>2</td><td>0</td><td> TRUE</td><td> TRUE</td><td>FALSE</td></tr>\n",
       "\t<tr><td>1</td><td>2</td><td>0</td><td>2</td><td> TRUE</td><td> TRUE</td><td>FALSE</td></tr>\n",
       "\t<tr><td>2</td><td>2</td><td>2</td><td>2</td><td>FALSE</td><td>FALSE</td><td> TRUE</td></tr>\n",
       "</tbody>\n",
       "</table>\n"
      ],
      "text/latex": [
       "A data.frame: 4 × 7\n",
       "\\begin{tabular}{lllllll}\n",
       " player1 & player2 & value1 & value2 & change1 & change2 & Nash\\\\\n",
       " <int> & <int> & <dbl> & <dbl> & <lgl> & <lgl> & <lgl>\\\\\n",
       "\\hline\n",
       "\t 1 & 1 & 3 & 3 &  TRUE &  TRUE & FALSE\\\\\n",
       "\t 2 & 1 & 2 & 0 &  TRUE &  TRUE & FALSE\\\\\n",
       "\t 1 & 2 & 0 & 2 &  TRUE &  TRUE & FALSE\\\\\n",
       "\t 2 & 2 & 2 & 2 & FALSE & FALSE &  TRUE\\\\\n",
       "\\end{tabular}\n"
      ],
      "text/markdown": [
       "\n",
       "A data.frame: 4 × 7\n",
       "\n",
       "| player1 &lt;int&gt; | player2 &lt;int&gt; | value1 &lt;dbl&gt; | value2 &lt;dbl&gt; | change1 &lt;lgl&gt; | change2 &lt;lgl&gt; | Nash &lt;lgl&gt; |\n",
       "|---|---|---|---|---|---|---|\n",
       "| 1 | 1 | 3 | 3 |  TRUE |  TRUE | FALSE |\n",
       "| 2 | 1 | 2 | 0 |  TRUE |  TRUE | FALSE |\n",
       "| 1 | 2 | 0 | 2 |  TRUE |  TRUE | FALSE |\n",
       "| 2 | 2 | 2 | 2 | FALSE | FALSE |  TRUE |\n",
       "\n"
      ],
      "text/plain": [
       "  player1 player2 value1 value2 change1 change2 Nash \n",
       "1 1       1       3      3       TRUE    TRUE   FALSE\n",
       "2 2       1       2      0       TRUE    TRUE   FALSE\n",
       "3 1       2       0      2       TRUE    TRUE   FALSE\n",
       "4 2       2       2      2      FALSE   FALSE    TRUE"
      ]
     },
     "metadata": {},
     "output_type": "display_data"
    }
   ],
   "source": [
    "for (i in 1:dim(str)[1]){\n",
    "    print('############')\n",
    "    print(paste('Row:',i))\n",
    "    for (j in seq_along(names(game))){\n",
    "        player=names(game)[j]\n",
    "        current_value=str[[player]][i]\n",
    "        print(paste('Current Player:',player,\n",
    "                    'Current strategy:',str[[player]][i],\n",
    "                    'Current value:',current_value))\n",
    "        #Pozostali gracze\n",
    "        other_players = names(game)[names(game) != player]\n",
    "        print(paste('Other Players:',other_players))\n",
    "        # Strategie pozostałych graczy w tym wierszu\n",
    "        other_players_str=str[[other_players]][i]\n",
    "        print(paste('Other Players Strategies:',other_players_str))\n",
    "        # Wypłaty obecnego gracza z pominięciem obecnego wiersza dla niezmiennych strategii pozostałych graczy\n",
    "        player_values=str[str[other_players]==other_players_str,]\n",
    "        player_values$Row_Index = as.integer(rownames(player_values))\n",
    "        player_values=player_values[player_values$Row_Index!=i,]\n",
    "        player_values=player_values[[vnames[j]]]\n",
    "        print(paste('Current Player other values:',player_values))\n",
    "        player_values_bool=player_values>current_value\n",
    "        cat('Bool list:', as.character(player_values_bool), '\\n')\n",
    "        str[[cnames[j]]][i]=any(player_values_bool)\n",
    "        print('*********')\n",
    "        \n",
    "    }\n",
    "    print(paste('Change:', unlist(str[i,cnames])))\n",
    "    print(paste('OR Change:', any(unlist(str[i,cnames]))))\n",
    "    print(paste('NOR Change:', !any(unlist(str[i,cnames]))))\n",
    "    nash_value=(!any(unlist(str[i,cnames])))\n",
    "    str$Nash[i]=nash_value\n",
    "}\n",
    "\n",
    "\n",
    "str"
   ]
  },
  {
   "cell_type": "code",
   "execution_count": 166,
   "id": "6aa73e2d-6a73-4c99-99d5-b4067291768a",
   "metadata": {
    "tags": []
   },
   "outputs": [
    {
     "name": "stdout",
     "output_type": "stream",
     "text": [
      "[1] \"############\"\n",
      "[1] \"Row: 1\"\n",
      "[1] \"Current Player: player1 Current strategy: 1 Current value: 1\"\n",
      "[1] \"Other Players: player2\"\n",
      "[1] \"Other Players Strategies: 1\"\n",
      "[1] \"Current Player other values: 10\"\n",
      "Bool list: TRUE \n",
      "[1] \"*********\"\n",
      "[1] \"Current Player: player2 Current strategy: 1 Current value: 1\"\n",
      "[1] \"Other Players: player1\"\n",
      "[1] \"Other Players Strategies: 1\"\n",
      "[1] \"Current Player other values: 10\"\n",
      "Bool list: TRUE \n",
      "[1] \"*********\"\n",
      "[1] \"############\"\n",
      "[1] \"Row: 2\"\n",
      "[1] \"Current Player: player1 Current strategy: 2 Current value: 2\"\n",
      "[1] \"Other Players: player2\"\n",
      "[1] \"Other Players Strategies: 1\"\n",
      "[1] \"Current Player other values: 5\"\n",
      "Bool list: TRUE \n",
      "[1] \"*********\"\n",
      "[1] \"Current Player: player2 Current strategy: 1 Current value: 1\"\n",
      "[1] \"Other Players: player1\"\n",
      "[1] \"Other Players Strategies: 2\"\n",
      "[1] \"Current Player other values: 2\"\n",
      "Bool list: TRUE \n",
      "[1] \"*********\"\n",
      "[1] \"############\"\n",
      "[1] \"Row: 3\"\n",
      "[1] \"Current Player: player1 Current strategy: 1 Current value: 1\"\n",
      "[1] \"Other Players: player2\"\n",
      "[1] \"Other Players Strategies: 2\"\n",
      "[1] \"Current Player other values: 2\"\n",
      "Bool list: TRUE \n",
      "[1] \"*********\"\n",
      "[1] \"Current Player: player2 Current strategy: 2 Current value: 2\"\n",
      "[1] \"Other Players: player1\"\n",
      "[1] \"Other Players Strategies: 1\"\n",
      "[1] \"Current Player other values: 5\"\n",
      "Bool list: TRUE \n",
      "[1] \"*********\"\n",
      "[1] \"############\"\n",
      "[1] \"Row: 4\"\n",
      "[1] \"Current Player: player1 Current strategy: 2 Current value: 2\"\n",
      "[1] \"Other Players: player2\"\n",
      "[1] \"Other Players Strategies: 2\"\n",
      "[1] \"Current Player other values: 1\"\n",
      "Bool list: FALSE \n",
      "[1] \"*********\"\n",
      "[1] \"Current Player: player2 Current strategy: 2 Current value: 2\"\n",
      "[1] \"Other Players: player1\"\n",
      "[1] \"Other Players Strategies: 2\"\n",
      "[1] \"Current Player other values: 1\"\n",
      "Bool list: FALSE \n",
      "[1] \"*********\"\n"
     ]
    },
    {
     "data": {
      "text/html": [
       "<table class=\"dataframe\">\n",
       "<caption>A data.frame: 1 × 2</caption>\n",
       "<thead>\n",
       "\t<tr><th></th><th scope=col>player1</th><th scope=col>player2</th></tr>\n",
       "\t<tr><th></th><th scope=col>&lt;int&gt;</th><th scope=col>&lt;int&gt;</th></tr>\n",
       "</thead>\n",
       "<tbody>\n",
       "\t<tr><th scope=row>4</th><td>2</td><td>2</td></tr>\n",
       "</tbody>\n",
       "</table>\n"
      ],
      "text/latex": [
       "A data.frame: 1 × 2\n",
       "\\begin{tabular}{r|ll}\n",
       "  & player1 & player2\\\\\n",
       "  & <int> & <int>\\\\\n",
       "\\hline\n",
       "\t4 & 2 & 2\\\\\n",
       "\\end{tabular}\n"
      ],
      "text/markdown": [
       "\n",
       "A data.frame: 1 × 2\n",
       "\n",
       "| <!--/--> | player1 &lt;int&gt; | player2 &lt;int&gt; |\n",
       "|---|---|---|\n",
       "| 4 | 2 | 2 |\n",
       "\n"
      ],
      "text/plain": [
       "  player1 player2\n",
       "4 2       2      "
      ]
     },
     "metadata": {},
     "output_type": "display_data"
    }
   ],
   "source": [
    "nash=function(game){\n",
    "  dimensions_list <- list()\n",
    "  for (i in seq_along(names(game))){\n",
    "    dimension=dim(game[[i]])[i]\n",
    "    name=names(game)[i]\n",
    "    dimensions_list[[name]]=1:dimension\n",
    "  }\n",
    "  str=expand.grid(dimensions_list)\n",
    "  values=c()\n",
    "  vnames=c()\n",
    "  cnames=c()\n",
    "  for (i in seq_along(names(game))){\n",
    "    value=game[[i]][as.matrix(str)]\n",
    "    values=cbind(values,value)\n",
    "    vnames=c(vnames,paste('value',i,sep=''))\n",
    "    cnames=c(cnames,paste('change',i,sep=''))\n",
    "    \n",
    "  }\n",
    "  str=cbind(str,values)\n",
    "  colnames(str)[(ncol(str) - length(vnames) + 1):ncol(str)] <- vnames\n",
    "  for (i in 1:dim(str)[1]){\n",
    "    print('############')\n",
    "    print(paste('Row:',i))\n",
    "    for (j in seq_along(names(game))){\n",
    "      player=names(game)[j]\n",
    "      current_value=str[[player]][i]\n",
    "      print(paste('Current Player:',player,'Current strategy:',str[[player]][i],'Current value:',current_value))\n",
    "      #Pozostali gracze\n",
    "      other_players = names(game)[names(game) != player]\n",
    "      print(paste('Other Players:',other_players))\n",
    "      # Strategie pozostałych graczy w tym wierszu\n",
    "      other_players_str=str[[other_players]][i]\n",
    "      print(paste('Other Players Strategies:',other_players_str))\n",
    "      # Wypłaty obecnego gracza z pominięciem obecnego wiersza dla niezmiennych strategii pozostałych graczy\n",
    "      player_values=str[str[other_players]==other_players_str,]\n",
    "      player_values$Row_Index = as.integer(rownames(player_values))\n",
    "      player_values=player_values[player_values$Row_Index!=i,]\n",
    "      player_values=player_values[[vnames[j]]]\n",
    "      print(paste('Current Player other values:',player_values))\n",
    "      player_values_bool=player_values>current_value\n",
    "      cat('Bool list:', as.character(player_values_bool), '\\n')\n",
    "      str[[cnames[j]]][i]=any(player_values_bool)\n",
    "      print('*********')\n",
    "    }\n",
    "    nash_value=(!any(unlist(str[i,cnames])))\n",
    "    str$Nash[i]=nash_value\n",
    "  }\n",
    "  return_obj=str[str$Nash,names(game)]\n",
    "  return(return_obj)\n",
    "\n",
    "}\n",
    "\n",
    "\n",
    "game_prison <- list(\n",
    "  \"player1\" = array(c(5, 10, 1, 2), dim = c(2, 2)),\n",
    "  \"player2\" = array(c(5, 1, 10, 2), dim = c(2, 2))\n",
    ")\n",
    "\n",
    "game_stag <- list(\n",
    "  \"player1\" = array(c(3, 2, 0, 2), dim = c(2, 2)),\n",
    "  \"player2\" = array(c(3, 0, 2, 2), dim = c(2, 2))\n",
    ")\n",
    "\n",
    "nash(game_prison)\n",
    "\n"
   ]
  },
  {
   "cell_type": "code",
   "execution_count": 156,
   "id": "12a64e94-2656-47e9-ae1e-fba58e0fd173",
   "metadata": {},
   "outputs": [
    {
     "data": {
      "text/html": [
       "<style>\n",
       ".dl-inline {width: auto; margin:0; padding: 0}\n",
       ".dl-inline>dt, .dl-inline>dd {float: none; width: auto; display: inline-block}\n",
       ".dl-inline>dt::after {content: \":\\0020\"; padding-right: .5ex}\n",
       ".dl-inline>dt:not(:first-of-type) {padding-left: .5ex}\n",
       "</style><dl class=dl-inline><dt>change1</dt><dd>TRUE</dd><dt>change2</dt><dd>TRUE</dd></dl>\n"
      ],
      "text/latex": [
       "\\begin{description*}\n",
       "\\item[change1] TRUE\n",
       "\\item[change2] TRUE\n",
       "\\end{description*}\n"
      ],
      "text/markdown": [
       "change1\n",
       ":   TRUEchange2\n",
       ":   TRUE\n",
       "\n"
      ],
      "text/plain": [
       "change1 change2 \n",
       "   TRUE    TRUE "
      ]
     },
     "metadata": {},
     "output_type": "display_data"
    },
    {
     "data": {
      "text/html": [
       "FALSE"
      ],
      "text/latex": [
       "FALSE"
      ],
      "text/markdown": [
       "FALSE"
      ],
      "text/plain": [
       "[1] FALSE"
      ]
     },
     "metadata": {},
     "output_type": "display_data"
    }
   ],
   "source": [
    "x=unlist(str[2,cnames])\n",
    "x\n",
    "!any(x)"
   ]
  }
 ],
 "metadata": {
  "kernelspec": {
   "display_name": "R",
   "language": "R",
   "name": "ir"
  },
  "language_info": {
   "codemirror_mode": "r",
   "file_extension": ".r",
   "mimetype": "text/x-r-source",
   "name": "R",
   "pygments_lexer": "r",
   "version": "4.3.1"
  }
 },
 "nbformat": 4,
 "nbformat_minor": 5
}
